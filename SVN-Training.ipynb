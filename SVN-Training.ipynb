{
 "cells": [
  {
   "cell_type": "code",
   "execution_count": null,
   "metadata": {
    "collapsed": true
   },
   "outputs": [],
   "source": [
    "import matplotlib.image as mpimg\n",
    "import matplotlib.pyplot as plt\n",
    "import numpy as np\n",
    "import cv2\n",
    "import glob\n",
    "import time\n",
    "from sklearn.svm import LinearSVC\n",
    "from sklearn.preprocessing import StandardScaler\n",
    "from skimage.feature import hog\n",
    "# NOTE: the next import is only valid for scikit-learn version <= 0.17\n",
    "# for scikit-learn >= 0.18 use:\n",
    "from sklearn.model_selection import train_test_split\n"
   ]
  },
  {
   "cell_type": "code",
   "execution_count": null,
   "metadata": {
    "collapsed": true
   },
   "outputs": [],
   "source": [
    "from vehicle_detection.sliding_window import single_img_features\n",
    "def extract_features(imgs, cspace='RGB', orient=9, \n",
    "                        pix_per_cell=8, cell_per_block=2, hog_channel=0, hist_feat=True):\n",
    "    # Create a list to append feature vectors to\n",
    "    features = []\n",
    "    # Iterate through the list of images\n",
    "    for file in imgs:\n",
    "        # Read in each one by one\n",
    "        #image = np.int8(mpimg.imread(file)*255) + 128\n",
    "        image = cv2.cvtColor(cv2.imread(file), cv2.COLOR_BGR2RGB)\n",
    "\n",
    "        #print(\"shape:\", image.shape)\n",
    "        current_features = single_img_features(image, cspace, spatial_size=(32,32),hist_bins=32,\n",
    "                                              orient=orient, pix_per_cell=pix_per_cell,\n",
    "                                              cell_per_block=cell_per_block,\n",
    "                                              hog_channel=hog_channel, hist_feat=hist_feat)\n",
    "        # Append the new feature vector to the features list\n",
    "        #print(\"l:\", len(current_features))\n",
    "        features.append(current_features)\n",
    "    # Return list of feature vectors\n",
    "    print(\"Extracted {} features.\".format(len(features)))\n",
    "    return features\n",
    "\n"
   ]
  },
  {
   "cell_type": "code",
   "execution_count": null,
   "metadata": {},
   "outputs": [],
   "source": [
    "# Divide up into cars and notcars\n",
    "images = glob.glob('*.jpeg')\n",
    "cars = glob.glob('../vehicles/**/*.png')\n",
    "notcars = glob.glob('../non-vehicles/**/*.png')\n",
    "\n",
    "from sklearn.utils import shuffle\n",
    "cars = shuffle(cars)\n",
    "notcars = shuffle(notcars)\n",
    "\n",
    "print(\"Found {} cars and {} non-cars.\".format(len(cars), len(notcars)))"
   ]
  },
  {
   "cell_type": "code",
   "execution_count": null,
   "metadata": {
    "collapsed": true
   },
   "outputs": [],
   "source": [
    "# Reduce the sample size because HOG features are slow to compute\n",
    "# The quiz evaluator times out after 13s of CPU time\n",
    "#sample_size = 500\n",
    "#cars = cars[0:sample_size]\n",
    "#notcars = notcars[0:sample_size]"
   ]
  },
  {
   "cell_type": "code",
   "execution_count": null,
   "metadata": {},
   "outputs": [],
   "source": [
    "cs = cars[0:3]\n",
    "print(cs)\n",
    "f = extract_features(cs, 'YUV', 9, 8, 2, 0)\n",
    "#print(mpimg.imread(cs[0])*255)"
   ]
  },
  {
   "cell_type": "code",
   "execution_count": null,
   "metadata": {},
   "outputs": [],
   "source": [
    "img = np.int8(mpimg.imread(cs[0])*255) + 128\n",
    "img = cv2.cvtColor(cv2.imread(cs[0]), cv2.COLOR_BGR2RGB)\n",
    "print(img.shape, np.max(img))\n",
    "print(np.mean(img), np.std(img), np.max(img), np.min(img))\n",
    "plt.imshow(img)\n",
    "plt.show()"
   ]
  },
  {
   "cell_type": "code",
   "execution_count": null,
   "metadata": {},
   "outputs": [],
   "source": [
    "from vehicle_detection.features import get_hog_features\n",
    "p =  {'pix_per_cell': 8, 'colorspace': 'YCrCb', 'cell_per_block': 2, 'orient': 9, 'hog_channel': 'ALL', 'hist_feat': False}\n",
    "\n",
    "gray = cv2.cvtColor(img, cv2.COLOR_RGB2GRAY)\n",
    "\n",
    "f, v = get_hog_features(gray, \n",
    "                                           orient=p['orient'], \n",
    "                                           pix_per_cell=p['pix_per_cell'], \n",
    "                                           cell_per_block=p['cell_per_block'], vis=True)\n",
    "    \n",
    "f, (ax1, ax2) = plt.subplots(1, 2, figsize=(10, 5))\n",
    "f.tight_layout()\n",
    "ax1.imshow(gray, cmap='gray')\n",
    "ax1.set_title('Image', fontsize=25)\n",
    "ax2.imshow(v)\n",
    "ax2.set_title('HOG Features', fontsize=25)\n",
    "plt.subplots_adjust(left=0., right=1, top=0.9, bottom=0.)\n",
    "\n",
    "plt.show()"
   ]
  },
  {
   "cell_type": "code",
   "execution_count": null,
   "metadata": {
    "collapsed": true
   },
   "outputs": [],
   "source": [
    "\n",
    "def train_and_evaluate_svm(colorspace = 'RGB', orient=9, pix_per_cell=8, cell_per_block=2, hog_channel=0, hist_feat=True):\n",
    "    t=time.time()\n",
    "    car_features = extract_features(cars, cspace=colorspace, orient=orient, \n",
    "                            pix_per_cell=pix_per_cell, cell_per_block=cell_per_block, \n",
    "                            hog_channel=hog_channel, hist_feat=hist_feat)\n",
    "    notcar_features = extract_features(notcars, cspace=colorspace, orient=orient, \n",
    "                            pix_per_cell=pix_per_cell, cell_per_block=cell_per_block, \n",
    "                            hog_channel=hog_channel, hist_feat=hist_feat)\n",
    "    t2 = time.time()\n",
    "    print(round(t2-t, 2), 'Seconds to extract HOG features...')\n",
    "    # Create an array stack of feature vectors\n",
    "    X = np.vstack((car_features, notcar_features)).astype(np.float64) \n",
    "    # Fit a per-column scaler\n",
    "    X_scaler = StandardScaler().fit(X)\n",
    "    # Apply the scaler to X\n",
    "    scaled_X = X_scaler.transform(X)\n",
    "\n",
    "    # Define the labels vector\n",
    "    y = np.hstack((np.ones(len(car_features)), np.zeros(len(notcar_features))))\n",
    "\n",
    "\n",
    "    # Split up data into randomized training and test sets\n",
    "    rand_state = np.random.randint(0, 100)\n",
    "    X_train, X_test, y_train, y_test = train_test_split(\n",
    "        scaled_X, y, test_size=0.2, random_state=rand_state)\n",
    "\n",
    "    print('Using:',orient,'orientations',pix_per_cell,\n",
    "        'pixels per cell and', cell_per_block,'cells per block',\n",
    "        'in color space', colorspace,'and hog channel',hog_channel)\n",
    "    print('Feature vector length:', len(X_train[0]))\n",
    "    # Use a linear SVC \n",
    "    svc = LinearSVC()\n",
    "    # Check the training time for the SVC\n",
    "    t=time.time()\n",
    "    svc.fit(X_train, y_train)\n",
    "    t2 = time.time()\n",
    "    print(round(t2-t, 2), 'Seconds to train SVC...')\n",
    "    # Check the score of the SVC\n",
    "    print(\"=\"*30)\n",
    "    print('Test Accuracy of SVC = ', round(svc.score(X_test, y_test), 4))\n",
    "    print(\"=\"*30)\n",
    "    # Check the prediction time for a single sample\n",
    "    if False:\n",
    "        t=time.time()\n",
    "        n_predict = 15\n",
    "        print('My SVC predicts:     ', svc.predict(X_test[0:n_predict]))\n",
    "        print('For these',n_predict, 'labels: ', y_test[0:n_predict])\n",
    "        t2 = time.time()\n",
    "        print(round(t2-t, 5), 'Seconds to predict', n_predict,'labels with SVC')\n",
    "    del car_features\n",
    "    del notcar_features\n",
    "    del X\n",
    "    del scaled_X\n",
    "    return svc, X_scaler\n",
    "#train_and_evaluate_svm()"
   ]
  },
  {
   "cell_type": "code",
   "execution_count": null,
   "metadata": {},
   "outputs": [],
   "source": [
    "# quick and good:\n",
    "# cell_per_block: 3, colorspace: HSV, hog_channel: ALL, orient: 6, pix_per_cell: 12, \n",
    "#p = {'cell_per_block': 2, 'colorspace': 'HSV', 'orient': 16, 'pix_per_cell': 8, 'hog_channel': 'ALL'}\n",
    "#my_svm, my_scaler = train_and_evaluate_svm('HSV', 6, 12, 3, 'ALL')\n",
    "#p = {'pix_per_cell': 8, 'hog_channel': 'ALL', 'orient': 8, 'cell_per_block': 3, 'colorspace': 'HSV'}\n",
    "p =  {'pix_per_cell': 10, 'colorspace': 'YUV', 'cell_per_block': 2, 'orient': 9, 'hog_channel': 0, 'hist_feat': False}\n",
    "p =  {'pix_per_cell': 8, 'colorspace': 'YCrCb', 'cell_per_block': 2, 'orient': 9, 'hog_channel': 'ALL', 'hist_feat': False}\n",
    "my_svm, my_scaler = train_and_evaluate_svm(colorspace=p['colorspace'], \n",
    "                                           orient=p['orient'], \n",
    "                                           pix_per_cell=p['pix_per_cell'], \n",
    "                                           cell_per_block=p['cell_per_block'], \n",
    "                                           hog_channel=p['hog_channel'],\n",
    "                                           hist_feat=p['hist_feat'])\n"
   ]
  },
  {
   "cell_type": "code",
   "execution_count": null,
   "metadata": {
    "collapsed": true
   },
   "outputs": [],
   "source": [
    "import pickle\n",
    "\n",
    "with open('hog_svm.p', 'wb') as f:\n",
    "    pickle.dump((p, my_svm, my_scaler), f)"
   ]
  },
  {
   "cell_type": "code",
   "execution_count": null,
   "metadata": {
    "collapsed": true
   },
   "outputs": [],
   "source": [
    "# My gridsearch\n",
    "\n",
    "class Choose:            \n",
    "    def __init__(self, what):\n",
    "        self.what = what\n",
    "    def sample(self):\n",
    "        idx = np.random.randint(0, len(self.what))\n",
    "        return self.what[idx]\n",
    "\n",
    "def sample_all(params):\n",
    "    all_params = {}\n",
    "    for key in params.keys():\n",
    "        all_params[key] = params[key].sample()\n",
    "    return all_params\n",
    "    \n",
    "    \n",
    "def search(n, function, params):\n",
    "    for i in range(n):\n",
    "        p = sample_all(params)\n",
    "        print(\"p = \", p)\n",
    "        function(colorspace = p['colorspace'], orient=p['orient'], \n",
    "                 pix_per_cell=p['pix_per_cell'], \n",
    "                 cell_per_block=p['cell_per_block'], \n",
    "                 hog_channel=p['hog_channel'])\n",
    "        \n",
    "\n"
   ]
  },
  {
   "cell_type": "code",
   "execution_count": null,
   "metadata": {
    "collapsed": true,
    "scrolled": false
   },
   "outputs": [],
   "source": [
    "params = {\n",
    "    \"colorspace\": Choose(['RGB', 'HSV', 'HLS', 'YUV', 'YCrCb']),\n",
    "    \"orient\": Choose([8, 9, 10, 12]),\n",
    "    \"pix_per_cell\": Choose([6,8,10]),\n",
    "    \"cell_per_block\": Choose([2,3,4]),\n",
    "    \"hog_channel\": Choose([0, 1, 2, 'ALL']),\n",
    "    \"hist_feat\": Choose([True, False]),\n",
    "}\n",
    "\n",
    "np.random.seed(42)\n",
    "\n",
    "search(100, train_and_evaluate_svm, params)"
   ]
  },
  {
   "cell_type": "code",
   "execution_count": null,
   "metadata": {
    "collapsed": true
   },
   "outputs": [],
   "source": []
  }
 ],
 "metadata": {
  "kernelspec": {
   "display_name": "Python 3",
   "language": "python",
   "name": "python3"
  },
  "language_info": {
   "codemirror_mode": {
    "name": "ipython",
    "version": 3
   },
   "file_extension": ".py",
   "mimetype": "text/x-python",
   "name": "python",
   "nbconvert_exporter": "python",
   "pygments_lexer": "ipython3",
   "version": "3.5.2"
  }
 },
 "nbformat": 4,
 "nbformat_minor": 2
}
